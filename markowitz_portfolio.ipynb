{
 "cells": [
  {
   "cell_type": "markdown",
   "metadata": {},
   "source": [
    "# Part 1: Obtaining Time Series Data\n"
   ]
  },
  {
   "cell_type": "code",
   "execution_count": 2,
   "metadata": {
    "collapsed": true
   },
   "outputs": [],
   "source": [
    "import numpy as np\n",
    "import matplotlib.pyplot as plt"
   ]
  },
  {
   "cell_type": "markdown",
   "metadata": {},
   "source": [
    "# Download Economic Time Series Data"
   ]
  },
  {
   "cell_type": "code",
   "execution_count": 3,
   "metadata": {},
   "outputs": [
    {
     "data": {
      "text/html": [
       "<div>\n",
       "<style scoped>\n",
       "    .dataframe tbody tr th:only-of-type {\n",
       "        vertical-align: middle;\n",
       "    }\n",
       "\n",
       "    .dataframe tbody tr th {\n",
       "        vertical-align: top;\n",
       "    }\n",
       "\n",
       "    .dataframe thead th {\n",
       "        text-align: right;\n",
       "    }\n",
       "</style>\n",
       "<table border=\"1\" class=\"dataframe\">\n",
       "  <thead>\n",
       "    <tr style=\"text-align: right;\">\n",
       "      <th></th>\n",
       "      <th>AAPL</th>\n",
       "      <th>ABBV</th>\n",
       "      <th>ABT</th>\n",
       "      <th>ACN</th>\n",
       "      <th>AGN</th>\n",
       "      <th>AIG</th>\n",
       "      <th>ALL</th>\n",
       "      <th>AMGN</th>\n",
       "      <th>AMZN</th>\n",
       "      <th>AXP</th>\n",
       "      <th>...</th>\n",
       "      <th>UNP</th>\n",
       "      <th>UPS</th>\n",
       "      <th>USB</th>\n",
       "      <th>UTX</th>\n",
       "      <th>V</th>\n",
       "      <th>VZ</th>\n",
       "      <th>WBA</th>\n",
       "      <th>WFC</th>\n",
       "      <th>WMT</th>\n",
       "      <th>XOM</th>\n",
       "    </tr>\n",
       "    <tr>\n",
       "      <th>Date</th>\n",
       "      <th></th>\n",
       "      <th></th>\n",
       "      <th></th>\n",
       "      <th></th>\n",
       "      <th></th>\n",
       "      <th></th>\n",
       "      <th></th>\n",
       "      <th></th>\n",
       "      <th></th>\n",
       "      <th></th>\n",
       "      <th></th>\n",
       "      <th></th>\n",
       "      <th></th>\n",
       "      <th></th>\n",
       "      <th></th>\n",
       "      <th></th>\n",
       "      <th></th>\n",
       "      <th></th>\n",
       "      <th></th>\n",
       "      <th></th>\n",
       "      <th></th>\n",
       "    </tr>\n",
       "  </thead>\n",
       "  <tbody>\n",
       "    <tr>\n",
       "      <th>2009-12-31</th>\n",
       "      <td>26.986492</td>\n",
       "      <td>NaN</td>\n",
       "      <td>21.011253</td>\n",
       "      <td>34.577480</td>\n",
       "      <td>38.728325</td>\n",
       "      <td>23.313679</td>\n",
       "      <td>25.275532</td>\n",
       "      <td>49.492962</td>\n",
       "      <td>134.520004</td>\n",
       "      <td>35.931217</td>\n",
       "      <td>...</td>\n",
       "      <td>27.156313</td>\n",
       "      <td>45.483036</td>\n",
       "      <td>19.122402</td>\n",
       "      <td>57.742420</td>\n",
       "      <td>18.287632</td>\n",
       "      <td>21.048664</td>\n",
       "      <td>31.049047</td>\n",
       "      <td>22.251017</td>\n",
       "      <td>43.785145</td>\n",
       "      <td>53.863396</td>\n",
       "    </tr>\n",
       "    <tr>\n",
       "      <th>2010-01-04</th>\n",
       "      <td>27.406532</td>\n",
       "      <td>NaN</td>\n",
       "      <td>21.194162</td>\n",
       "      <td>35.052402</td>\n",
       "      <td>39.393185</td>\n",
       "      <td>23.243692</td>\n",
       "      <td>25.586843</td>\n",
       "      <td>50.499107</td>\n",
       "      <td>133.899994</td>\n",
       "      <td>36.285904</td>\n",
       "      <td>...</td>\n",
       "      <td>27.789530</td>\n",
       "      <td>46.125214</td>\n",
       "      <td>19.436718</td>\n",
       "      <td>59.589233</td>\n",
       "      <td>18.429817</td>\n",
       "      <td>21.143955</td>\n",
       "      <td>31.539467</td>\n",
       "      <td>22.523083</td>\n",
       "      <td>44.424107</td>\n",
       "      <td>54.621700</td>\n",
       "    </tr>\n",
       "    <tr>\n",
       "      <th>2010-01-05</th>\n",
       "      <td>27.453915</td>\n",
       "      <td>NaN</td>\n",
       "      <td>21.022924</td>\n",
       "      <td>35.269032</td>\n",
       "      <td>39.002094</td>\n",
       "      <td>22.808218</td>\n",
       "      <td>26.007540</td>\n",
       "      <td>50.061653</td>\n",
       "      <td>134.690002</td>\n",
       "      <td>36.206097</td>\n",
       "      <td>...</td>\n",
       "      <td>28.176256</td>\n",
       "      <td>46.204498</td>\n",
       "      <td>19.929434</td>\n",
       "      <td>58.699112</td>\n",
       "      <td>18.218628</td>\n",
       "      <td>21.182079</td>\n",
       "      <td>31.285799</td>\n",
       "      <td>23.141388</td>\n",
       "      <td>43.981754</td>\n",
       "      <td>54.834965</td>\n",
       "    </tr>\n",
       "    <tr>\n",
       "      <th>2010-01-06</th>\n",
       "      <td>27.017223</td>\n",
       "      <td>NaN</td>\n",
       "      <td>21.139675</td>\n",
       "      <td>35.643974</td>\n",
       "      <td>39.129196</td>\n",
       "      <td>22.660460</td>\n",
       "      <td>26.015955</td>\n",
       "      <td>49.685444</td>\n",
       "      <td>132.250000</td>\n",
       "      <td>36.791367</td>\n",
       "      <td>...</td>\n",
       "      <td>28.218761</td>\n",
       "      <td>45.863583</td>\n",
       "      <td>20.141808</td>\n",
       "      <td>58.391304</td>\n",
       "      <td>17.973986</td>\n",
       "      <td>20.573015</td>\n",
       "      <td>31.049047</td>\n",
       "      <td>23.174374</td>\n",
       "      <td>43.883450</td>\n",
       "      <td>55.308914</td>\n",
       "    </tr>\n",
       "    <tr>\n",
       "      <th>2010-01-07</th>\n",
       "      <td>26.967278</td>\n",
       "      <td>NaN</td>\n",
       "      <td>21.314800</td>\n",
       "      <td>35.610645</td>\n",
       "      <td>38.816319</td>\n",
       "      <td>22.224985</td>\n",
       "      <td>26.150579</td>\n",
       "      <td>49.230499</td>\n",
       "      <td>130.000000</td>\n",
       "      <td>37.388069</td>\n",
       "      <td>...</td>\n",
       "      <td>27.968023</td>\n",
       "      <td>45.514767</td>\n",
       "      <td>20.532579</td>\n",
       "      <td>58.640884</td>\n",
       "      <td>18.141272</td>\n",
       "      <td>20.450558</td>\n",
       "      <td>31.235058</td>\n",
       "      <td>24.015276</td>\n",
       "      <td>43.908028</td>\n",
       "      <td>55.135132</td>\n",
       "    </tr>\n",
       "  </tbody>\n",
       "</table>\n",
       "<p>5 rows × 102 columns</p>\n",
       "</div>"
      ],
      "text/plain": [
       "                 AAPL  ABBV        ABT        ACN        AGN        AIG  \\\n",
       "Date                                                                      \n",
       "2009-12-31  26.986492   NaN  21.011253  34.577480  38.728325  23.313679   \n",
       "2010-01-04  27.406532   NaN  21.194162  35.052402  39.393185  23.243692   \n",
       "2010-01-05  27.453915   NaN  21.022924  35.269032  39.002094  22.808218   \n",
       "2010-01-06  27.017223   NaN  21.139675  35.643974  39.129196  22.660460   \n",
       "2010-01-07  26.967278   NaN  21.314800  35.610645  38.816319  22.224985   \n",
       "\n",
       "                  ALL       AMGN        AMZN        AXP  ...        UNP  \\\n",
       "Date                                                     ...              \n",
       "2009-12-31  25.275532  49.492962  134.520004  35.931217  ...  27.156313   \n",
       "2010-01-04  25.586843  50.499107  133.899994  36.285904  ...  27.789530   \n",
       "2010-01-05  26.007540  50.061653  134.690002  36.206097  ...  28.176256   \n",
       "2010-01-06  26.015955  49.685444  132.250000  36.791367  ...  28.218761   \n",
       "2010-01-07  26.150579  49.230499  130.000000  37.388069  ...  27.968023   \n",
       "\n",
       "                  UPS        USB        UTX          V         VZ        WBA  \\\n",
       "Date                                                                           \n",
       "2009-12-31  45.483036  19.122402  57.742420  18.287632  21.048664  31.049047   \n",
       "2010-01-04  46.125214  19.436718  59.589233  18.429817  21.143955  31.539467   \n",
       "2010-01-05  46.204498  19.929434  58.699112  18.218628  21.182079  31.285799   \n",
       "2010-01-06  45.863583  20.141808  58.391304  17.973986  20.573015  31.049047   \n",
       "2010-01-07  45.514767  20.532579  58.640884  18.141272  20.450558  31.235058   \n",
       "\n",
       "                  WFC        WMT        XOM  \n",
       "Date                                         \n",
       "2009-12-31  22.251017  43.785145  53.863396  \n",
       "2010-01-04  22.523083  44.424107  54.621700  \n",
       "2010-01-05  23.141388  43.981754  54.834965  \n",
       "2010-01-06  23.174374  43.883450  55.308914  \n",
       "2010-01-07  24.015276  43.908028  55.135132  \n",
       "\n",
       "[5 rows x 102 columns]"
      ]
     },
     "execution_count": 3,
     "metadata": {},
     "output_type": "execute_result"
    }
   ],
   "source": [
    "import pandas as pd\n",
    "\n",
    "tickers = list(pd.read_csv('./data/SP100_LIST.csv', sep=';')['Symbol'])\n",
    "provider = 'yahoo'\n",
    "start = '2010-01-01'\n",
    "end = '2017-11-14'\n",
    "\n",
    "data = pd.read_csv('./data/data_sp100.csv', sep=';', index_col=0, header=0, parse_dates=True)\n",
    "data.head()"
   ]
  },
  {
   "cell_type": "code",
   "execution_count": 20,
   "metadata": {},
   "outputs": [
    {
     "name": "stderr",
     "output_type": "stream",
     "text": [
      "C:\\Users\\Lenovo\\AppData\\Local\\Temp\\ipykernel_15576\\3915715918.py:6: FutureWarning: DataFrame.fillna with 'method' is deprecated and will raise in a future version. Use obj.ffill() or obj.bfill() instead.\n",
      "  returns = returns.fillna(method='ffill').dropna()\n"
     ]
    },
    {
     "data": {
      "text/html": [
       "<div>\n",
       "<style scoped>\n",
       "    .dataframe tbody tr th:only-of-type {\n",
       "        vertical-align: middle;\n",
       "    }\n",
       "\n",
       "    .dataframe tbody tr th {\n",
       "        vertical-align: top;\n",
       "    }\n",
       "\n",
       "    .dataframe thead th {\n",
       "        text-align: right;\n",
       "    }\n",
       "</style>\n",
       "<table border=\"1\" class=\"dataframe\">\n",
       "  <thead>\n",
       "    <tr style=\"text-align: right;\">\n",
       "      <th></th>\n",
       "      <th>AAPL</th>\n",
       "      <th>MSFT</th>\n",
       "      <th>JNJ</th>\n",
       "      <th>MCD</th>\n",
       "      <th>GOOGL</th>\n",
       "      <th>DIS</th>\n",
       "      <th>V</th>\n",
       "      <th>PG</th>\n",
       "    </tr>\n",
       "    <tr>\n",
       "      <th>Date</th>\n",
       "      <th></th>\n",
       "      <th></th>\n",
       "      <th></th>\n",
       "      <th></th>\n",
       "      <th></th>\n",
       "      <th></th>\n",
       "      <th></th>\n",
       "      <th></th>\n",
       "    </tr>\n",
       "  </thead>\n",
       "  <tbody>\n",
       "    <tr>\n",
       "      <th>2010-01-04</th>\n",
       "      <td>0.015565</td>\n",
       "      <td>0.015420</td>\n",
       "      <td>0.004192</td>\n",
       "      <td>0.005445</td>\n",
       "      <td>0.010920</td>\n",
       "      <td>-0.005582</td>\n",
       "      <td>0.007775</td>\n",
       "      <td>0.008082</td>\n",
       "    </tr>\n",
       "    <tr>\n",
       "      <th>2010-01-05</th>\n",
       "      <td>0.001729</td>\n",
       "      <td>0.000323</td>\n",
       "      <td>-0.011595</td>\n",
       "      <td>-0.007645</td>\n",
       "      <td>-0.004404</td>\n",
       "      <td>-0.002494</td>\n",
       "      <td>-0.011459</td>\n",
       "      <td>0.000327</td>\n",
       "    </tr>\n",
       "    <tr>\n",
       "      <th>2010-01-06</th>\n",
       "      <td>-0.015906</td>\n",
       "      <td>-0.006137</td>\n",
       "      <td>0.008133</td>\n",
       "      <td>-0.013644</td>\n",
       "      <td>-0.025209</td>\n",
       "      <td>-0.005314</td>\n",
       "      <td>-0.013428</td>\n",
       "      <td>-0.004743</td>\n",
       "    </tr>\n",
       "    <tr>\n",
       "      <th>2010-01-07</th>\n",
       "      <td>-0.001849</td>\n",
       "      <td>-0.010400</td>\n",
       "      <td>-0.007137</td>\n",
       "      <td>0.007323</td>\n",
       "      <td>-0.023280</td>\n",
       "      <td>0.000314</td>\n",
       "      <td>0.009307</td>\n",
       "      <td>-0.005423</td>\n",
       "    </tr>\n",
       "    <tr>\n",
       "      <th>2010-01-08</th>\n",
       "      <td>0.006648</td>\n",
       "      <td>0.006897</td>\n",
       "      <td>0.003438</td>\n",
       "      <td>-0.000969</td>\n",
       "      <td>0.013331</td>\n",
       "      <td>0.001571</td>\n",
       "      <td>0.002766</td>\n",
       "      <td>-0.001322</td>\n",
       "    </tr>\n",
       "  </tbody>\n",
       "</table>\n",
       "</div>"
      ],
      "text/plain": [
       "                AAPL      MSFT       JNJ       MCD     GOOGL       DIS  \\\n",
       "Date                                                                     \n",
       "2010-01-04  0.015565  0.015420  0.004192  0.005445  0.010920 -0.005582   \n",
       "2010-01-05  0.001729  0.000323 -0.011595 -0.007645 -0.004404 -0.002494   \n",
       "2010-01-06 -0.015906 -0.006137  0.008133 -0.013644 -0.025209 -0.005314   \n",
       "2010-01-07 -0.001849 -0.010400 -0.007137  0.007323 -0.023280  0.000314   \n",
       "2010-01-08  0.006648  0.006897  0.003438 -0.000969  0.013331  0.001571   \n",
       "\n",
       "                   V        PG  \n",
       "Date                            \n",
       "2010-01-04  0.007775  0.008082  \n",
       "2010-01-05 -0.011459  0.000327  \n",
       "2010-01-06 -0.013428 -0.004743  \n",
       "2010-01-07  0.009307 -0.005423  \n",
       "2010-01-08  0.002766 -0.001322  "
      ]
     },
     "execution_count": 20,
     "metadata": {},
     "output_type": "execute_result"
    }
   ],
   "source": [
    "companies = ['AAPL', 'MSFT', 'JNJ', 'MCD', 'GOOGL', 'DIS', 'V', 'PG']\n",
    "\n",
    " \n",
    "# calculate returns\n",
    "returns = data[companies] / data[companies].shift(1) - 1\n",
    "returns = returns.fillna(method='ffill').dropna()\n",
    "returns.head()"
   ]
  },
  {
   "cell_type": "markdown",
   "metadata": {},
   "source": [
    "Analyse de la corrélation des actions"
   ]
  },
  {
   "cell_type": "code",
   "execution_count": 21,
   "metadata": {},
   "outputs": [
    {
     "name": "stdout",
     "output_type": "stream",
     "text": [
      "\n",
      "🔻 Paires les moins corrélées :\n",
      "AAPL   PG     0.272433\n",
      "       JNJ    0.297312\n",
      "       MCD    0.315332\n",
      "GOOGL  PG     0.323445\n",
      "AAPL   V      0.338730\n",
      "dtype: float64\n",
      "\n",
      "🔺 Paires les plus corrélées :\n",
      "AAPL   GOOGL    0.415621\n",
      "DIS    PG       0.419153\n",
      "JNJ    V        0.425856\n",
      "GOOGL  V        0.429191\n",
      "MSFT   DIS      0.445101\n",
      "JNJ    MCD      0.446723\n",
      "DIS    V        0.447478\n",
      "JNJ    DIS      0.466712\n",
      "MSFT   GOOGL    0.472875\n",
      "JNJ    PG       0.511578\n",
      "dtype: float64\n"
     ]
    }
   ],
   "source": [
    "cov = np.matrix(np.cov(returns.T))\n",
    "std_devs = np.sqrt(np.diag(cov))\n",
    "corr_matrix = np.divide(cov, std_devs[:, None] * std_devs[None, :])  # Équivalent à corr = cov / (σ_i * σ_j)\n",
    "\n",
    "# Transformation en DataFrame pour traitement avec les noms\n",
    "corr_df = pd.DataFrame(np.array(corr_matrix), index=companies, columns=companies)\n",
    "\n",
    "# Extraction des paires (hors diagonale)\n",
    "corr_pairs = corr_df.unstack()\n",
    "corr_pairs = corr_pairs[corr_pairs.index.get_level_values(0) != corr_pairs.index.get_level_values(1)]\n",
    "corr_pairs = corr_pairs.drop_duplicates().sort_values()\n",
    "\n",
    "# Affichage\n",
    "print(\"\\n🔻 Paires les moins corrélées :\")\n",
    "print(corr_pairs.head(5))\n",
    "\n",
    "print(\"\\n🔺 Paires les plus corrélées :\")\n",
    "print(corr_pairs.tail(10))\n"
   ]
  },
  {
   "cell_type": "markdown",
   "metadata": {},
   "source": [
    "Analyse des actions avec le plus grand rendement"
   ]
  },
  {
   "cell_type": "code",
   "execution_count": 22,
   "metadata": {},
   "outputs": [
    {
     "name": "stdout",
     "output_type": "stream",
     "text": [
      "AAPL mean return: 0.11%\n",
      "MSFT mean return: 0.07%\n",
      "JNJ mean return: 0.06%\n",
      "MCD mean return: 0.07%\n",
      "GOOGL mean return: 0.07%\n",
      "DIS mean return: 0.07%\n",
      "V mean return: 0.10%\n",
      "PG mean return: 0.04%\n"
     ]
    }
   ],
   "source": [
    "for i in companies:\n",
    "    print(f'{i} mean return: {returns[i].mean()*100:.2f}%')"
   ]
  },
  {
   "cell_type": "markdown",
   "metadata": {},
   "source": [
    "# Part 2: Théorie du portefeuille optimal \n"
   ]
  },
  {
   "cell_type": "markdown",
   "metadata": {},
   "source": [
    "# Construire tous les portefeuilles possibles"
   ]
  },
  {
   "cell_type": "code",
   "execution_count": 23,
   "metadata": {
    "collapsed": true
   },
   "outputs": [],
   "source": [
    "def create_random_weights(n_assets):\n",
    "    '''\n",
    "    returns randomly choosen portfolio weights that sum to one\n",
    "    '''\n",
    "    w = np.random.rand(n_assets)\n",
    "    return w / w.sum()\n",
    " \n",
    "def evaluate_random_portfolio(returns):\n",
    "    ''' \n",
    "    returns the mean and standard deviation of returns for a random portfolio\n",
    "    '''\n",
    "    # in case a resampler is used\n",
    "    returns = pd.DataFrame(returns)   \n",
    "    \n",
    "    # calculate from covariance, asset returns and weights\n",
    "    cov = np.matrix(returns.cov())\n",
    "    R = np.matrix(returns.mean())\n",
    "    w = np.matrix(create_random_weights(returns.shape[1]))\n",
    "    \n",
    "    # calculate expected portfolio return and risk\n",
    "    mu = w * R.T\n",
    "    sigma = np.sqrt(w * cov * w.T)\n",
    "    \n",
    "    return mu, sigma\n",
    " \n",
    "def create_random_portfolios(returns, n_portfolios=1500):\n",
    "    '''\n",
    "    plots randomly created portfolios\n",
    "    '''\n",
    "    # calculate mean and std for every portfolio\n",
    "    pf_mus, pf_sigmas = np.column_stack([evaluate_random_portfolio(returns) for _ in range(n_portfolios)])\n",
    " \n",
    "    return pf_mus, pf_sigmas"
   ]
  },
  {
   "cell_type": "code",
   "execution_count": null,
   "metadata": {},
   "outputs": [
    {
     "data": {
      "image/png": "[encoded data removed]",
      "text/plain": [
       "<Figure size 640x480 with 1 Axes>"
      ]
     },
     "metadata": {},
     "output_type": "display_data"
    }
   ],
   "source": [
    "pf_mus, pf_sigmas = create_random_portfolios(returns, n_portfolios=3000)\n",
    " \n",
    "# scatter plot for expected return and volatility\n",
    "plt.plot(pf_sigmas, pf_mus, 'o', markersize=1)\n",
    "plt.xlabel('Expected Volatility')\n",
    "plt.ylabel('Expected Return')\n",
    "plt.title('Randomly Weighted Portfolios')\n",
    "plt.show()\n",
    "\n",
    "#Ce code va générer 3 000 portefeuilles aléatoires composés des actions et calculer pour chacun leur rendement et volatilité\n",
    "\n"
   ]
  },
  {
   "cell_type": "markdown",
   "metadata": {},
   "source": [
    "# Part 3: Frontière efficiente"
   ]
  },
  {
   "cell_type": "markdown",
   "metadata": {},
   "source": [
    "# Avec optimisation quadratique"
   ]
  },
  {
   "cell_type": "code",
   "execution_count": 25,
   "metadata": {},
   "outputs": [
    {
     "name": "stdout",
     "output_type": "stream",
     "text": [
      "Requirement already satisfied: cvxopt in c:\\users\\lenovo\\anaconda3\\lib\\site-packages (1.3.2)\n"
     ]
    }
   ],
   "source": [
    "!pip install cvxopt"
   ]
  },
  {
   "cell_type": "code",
   "execution_count": 70,
   "metadata": {
    "collapsed": true
   },
   "outputs": [],
   "source": [
    "import cvxopt as opt\n",
    "from cvxopt import solvers\n",
    " \n",
    "def calculate_frontier(returns):\n",
    "    '''\n",
    "    returns optimal portfolio weights and corresponding sigmas for a desired optimal portfolio return\n",
    "    Params:\n",
    "    - returns: T x N matrix of observed data\n",
    "    '''\n",
    "    returns = pd.DataFrame(returns)\n",
    "    cov = np.matrix(np.cov(returns.T))\n",
    "    N = returns.shape[1]\n",
    "    pbar = np.matrix(returns.mean())\n",
    "    \n",
    "    # define list of optimal / desired mus for which we'd like to find the optimal sigmas\n",
    "    \n",
    "    optimal_mus = []\n",
    "    r_min = pbar.mean()    # minimum expected return\n",
    "    for i in range(50):\n",
    "        optimal_mus.append(r_min)\n",
    "        r_min += (pbar.mean() / 100)\n",
    "    \n",
    "    optimal_mus = np.linspace(pbar.min(), pbar.max(), 50).tolist()\n",
    "\n",
    "    # constraint matrices for quadratic programming\n",
    "    P = opt.matrix(cov)\n",
    "    q = opt.matrix(np.zeros((N, 1)))\n",
    "    G = opt.matrix(np.concatenate((-np.array(pbar), -np.identity(N)), 0))\n",
    "    A = opt.matrix(1.0, (1,N))\n",
    "    b = opt.matrix(1.0)\n",
    "    \n",
    "    # hide optimization\n",
    "    opt.solvers.options['show_progress'] = False\n",
    "    \n",
    "    # calculate portfolio weights, every weight vector is of size Nx1\n",
    "    # find optimal weights with qp(P, q, G, h, A, b)\n",
    "    optimal_weights = []\n",
    "    for mu in optimal_mus:\n",
    "        try:\n",
    "            h = opt.matrix(np.concatenate((-np.ones((1, 1)) * mu, np.zeros((N, 1))), 0))\n",
    "            sol = solvers.qp(P, q, G, h, A, b)\n",
    "            optimal_weights.append(sol['x'])\n",
    "        except ValueError:\n",
    "            print(f\" Erreur pour mu = {mu}\")\n",
    "            optimal_weights.append(None)\n",
    "\n",
    "    \n",
    "    # find optimal sigma\n",
    "    # \\sigma = w^T * Cov * w\n",
    "    optimal_sigmas = []\n",
    "    for w in optimal_weights:\n",
    "        if w is None:\n",
    "            optimal_sigmas.append(None)\n",
    "        else:\n",
    "            sigma = np.sqrt(np.matrix(w).T * cov.T.dot(np.matrix(w)))[0, 0]\n",
    "            optimal_sigmas.append(sigma)\n",
    "    return optimal_weights, optimal_mus, optimal_sigmas\n"
   ]
  },
  {
   "cell_type": "markdown",
   "metadata": {},
   "source": [
    "# Calculs des poids"
   ]
  },
  {
   "cell_type": "code",
   "execution_count": null,
   "metadata": {},
   "outputs": [
    {
     "data": {
      "image/png": "[encoded data removed]",
      "text/plain": [
       "<Figure size 640x480 with 1 Axes>"
      ]
     },
     "metadata": {},
     "output_type": "display_data"
    },
    {
     "name": "stdout",
     "output_type": "stream",
     "text": [
      "0.0010660797284123668\n"
     ]
    }
   ],
   "source": [
    "optimal_weights, optimal_mus, optimal_sigmas = calculate_frontier(returns)\n",
    "# Filtrage des valeurs valides\n",
    "valid_results = [\n",
    "    (w, mu, sigma)\n",
    "    for w, mu, sigma in zip(optimal_weights, optimal_mus, optimal_sigmas)\n",
    "    if w is not None and sigma is not None\n",
    "]\n",
    "\n",
    "# Écriture dans le fichier\n",
    "with open(\"optimal_weights.txt\", \"w\") as f:\n",
    "    for j, (w, mu, sigma) in enumerate(valid_results):\n",
    "        weights_percent = np.round(np.array(w).flatten() * 100, 2)\n",
    "        f.write(\"--------------------------------------------------\\n\")\n",
    "        f.write(f\"Portfolio {j+1} (Target return: {mu:.4f}):\\n\")\n",
    "        for i, weight in enumerate(weights_percent):\n",
    "            f.write(f\"{companies[i]} : {weight:.2f} %\\n\")\n",
    "\n",
    "# Tracer la frontière efficace et les portefeuilles aléatoires\n",
    "pf_mus, pf_sigmas = create_random_portfolios(returns, n_portfolios=3000)\n",
    "\n",
    "# On extrait les listes nettoyées\n",
    "valid_mus = [mu for _, mu, _ in valid_results]\n",
    "valid_sigmas = [sigma for _, _, sigma in valid_results]\n",
    "\n",
    "plt.plot(pf_sigmas, pf_mus, 'o', markersize=5)\n",
    "plt.plot(valid_sigmas, valid_mus, 'o-', color='orange', markersize=8, label='Frontière Efficiente')\n",
    "plt.xlabel('Expected Volatility')\n",
    "plt.ylabel('Expected Return')\n",
    "plt.title('Efficient Frontier and Available Portfolios')\n",
    "plt.legend(loc='best')\n",
    "plt.show()\n",
    "\n"
   ]
  },
  {
   "cell_type": "markdown",
   "metadata": {},
   "source": [
    "# The End."
   ]
  },
  {
   "cell_type": "code",
   "execution_count": null,
   "metadata": {
    "collapsed": true
   },
   "outputs": [],
   "source": []
  }
 ],
 "metadata": {
  "kernelspec": {
   "display_name": "base",
   "language": "python",
   "name": "python3"
  },
  "language_info": {
   "codemirror_mode": {
    "name": "ipython",
    "version": 3
   },
   "file_extension": ".py",
   "mimetype": "text/x-python",
   "name": "python",
   "nbconvert_exporter": "python",
   "pygments_lexer": "ipython3",
   "version": "3.9.19"
  }
 },
 "nbformat": 4,
 "nbformat_minor": 2
}
